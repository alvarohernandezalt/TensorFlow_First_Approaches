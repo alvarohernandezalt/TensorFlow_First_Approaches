{
 "cells": [
  {
   "cell_type": "code",
   "execution_count": 1,
   "id": "d6c30aba-c729-4b51-b615-b1c6e09ffead",
   "metadata": {},
   "outputs": [],
   "source": [
    "import tensorflow as tf"
   ]
  },
  {
   "cell_type": "code",
   "execution_count": 2,
   "id": "0ebae429-1a3d-4ff7-8e3b-621316f936e2",
   "metadata": {},
   "outputs": [
    {
     "name": "stdout",
     "output_type": "stream",
     "text": [
      "TF Version:  2.12.0\n"
     ]
    }
   ],
   "source": [
    "print (\"TF Version: \", tf.__version__)"
   ]
  },
  {
   "cell_type": "code",
   "execution_count": 3,
   "id": "424dbd0c-f02b-4d99-a0ab-4b3d61e4d9f4",
   "metadata": {},
   "outputs": [
    {
     "name": "stdout",
     "output_type": "stream",
     "text": [
      "Eager execution:  True\n"
     ]
    }
   ],
   "source": [
    "print (\"Eager execution: \", tf.executing_eagerly())"
   ]
  },
  {
   "cell_type": "code",
   "execution_count": 4,
   "id": "73bf177a-e217-4338-93f5-aeb97a2c77ff",
   "metadata": {},
   "outputs": [
    {
     "name": "stdout",
     "output_type": "stream",
     "text": [
      "result =  tf.Tensor(34, shape=(), dtype=int32)\n"
     ]
    }
   ],
   "source": [
    "x = tf.constant(5, name='x')\n",
    "y = tf.constant(8, name='y')\n",
    "\n",
    "@tf.function\n",
    "def calc_prod(x,y):\n",
    "    z = 2*x + 3*y\n",
    "    return z\n",
    "\n",
    "result = calc_prod(x,y)\n",
    "print('result = ',result)"
   ]
  },
  {
   "cell_type": "markdown",
   "id": "aaa0ee97-bd1b-400d-a296-b0aae0418ade",
   "metadata": {},
   "source": [
    "#### @tf.function\n",
    "This function makes inherit functions 'seems' like regular pyhton functions"
   ]
  },
  {
   "cell_type": "code",
   "execution_count": 5,
   "id": "3eae0cc8-0f28-400d-926d-4fd1418dafd4",
   "metadata": {},
   "outputs": [
    {
     "data": {
      "text/plain": [
       "<tf.Variable 'Variable:0' shape=(2, 3, 4) dtype=float32, numpy=\n",
       "array([[[-0.9665202 ,  0.04008941, -0.13938813,  1.1523879 ],\n",
       "        [-0.48543945, -0.24574353,  0.07956366,  0.16446698],\n",
       "        [ 1.7343488 ,  2.2561762 , -0.45879272, -0.15023293]],\n",
       "\n",
       "       [[-2.705966  ,  0.47441712,  1.7625235 ,  0.7625122 ],\n",
       "        [ 1.2060741 ,  0.5029623 , -0.38609213,  0.98861635],\n",
       "        [ 0.1938119 , -0.43263164,  2.536628  ,  0.36939237]]],\n",
       "      dtype=float32)>"
      ]
     },
     "execution_count": 5,
     "metadata": {},
     "output_type": "execute_result"
    }
   ],
   "source": [
    "### Generate a normalized tensor\n",
    "normal1 = tf.Variable(tf.random.normal([2,3,4]), dtype=tf.float32)\n",
    "normal1"
   ]
  },
  {
   "cell_type": "code",
   "execution_count": 6,
   "id": "b851f6c9-540d-42aa-961b-4396283c0ca6",
   "metadata": {},
   "outputs": [
    {
     "data": {
      "text/plain": [
       "<tf.Tensor: shape=(), dtype=int32, numpy=3>"
      ]
     },
     "execution_count": 6,
     "metadata": {},
     "output_type": "execute_result"
    }
   ],
   "source": [
    "tf.rank(normal1)"
   ]
  },
  {
   "cell_type": "code",
   "execution_count": 7,
   "id": "fff7b265-6d50-40cd-8072-61a24f660cdb",
   "metadata": {},
   "outputs": [
    {
     "data": {
      "text/plain": [
       "<tf.Tensor: shape=(3,), dtype=int32, numpy=array([2, 3, 4])>"
      ]
     },
     "execution_count": 7,
     "metadata": {},
     "output_type": "execute_result"
    }
   ],
   "source": [
    "tf.shape(normal1)"
   ]
  },
  {
   "cell_type": "code",
   "execution_count": 8,
   "id": "58c9e275-a70a-4c0c-a0a2-f5fd8cc8fc08",
   "metadata": {},
   "outputs": [
    {
     "data": {
      "text/plain": [
       "<tf.Tensor: shape=(2, 3, 4), dtype=float32, numpy=\n",
       "array([[[-0.9004169 , -0.10074616, -1.9489676 ,  0.84165126],\n",
       "        [ 0.8209429 , -1.3294547 ,  0.05401405, -1.2899635 ],\n",
       "        [ 0.88021284,  0.12349848, -2.0988367 , -0.5440369 ]],\n",
       "\n",
       "       [[-1.3140959 ,  0.42376646,  0.8028748 ,  1.0744394 ],\n",
       "        [-0.45889887,  1.0159776 ,  0.67940545, -1.060875  ],\n",
       "        [-0.14589563,  1.8054775 ,  0.01646128,  1.180608  ]]],\n",
       "      dtype=float32)>"
      ]
     },
     "execution_count": 8,
     "metadata": {},
     "output_type": "execute_result"
    }
   ],
   "source": [
    "normal2 = tf.random.normal([2,3,4], dtype=tf.float32)\n",
    "normal2"
   ]
  },
  {
   "cell_type": "code",
   "execution_count": 9,
   "id": "a97db1e9-7305-4d70-92a2-cd587c0a53aa",
   "metadata": {},
   "outputs": [
    {
     "data": {
      "text/plain": [
       "3"
      ]
     },
     "execution_count": 9,
     "metadata": {},
     "output_type": "execute_result"
    }
   ],
   "source": [
    "normal2.ndim"
   ]
  },
  {
   "cell_type": "code",
   "execution_count": 10,
   "id": "47319e2c-7760-418e-a3d1-8655640f4b63",
   "metadata": {},
   "outputs": [
    {
     "data": {
      "text/plain": [
       "<tf.Tensor: shape=(3,), dtype=int32, numpy=array([2, 3, 4])>"
      ]
     },
     "execution_count": 10,
     "metadata": {},
     "output_type": "execute_result"
    }
   ],
   "source": [
    "tf.shape(normal2)"
   ]
  },
  {
   "cell_type": "code",
   "execution_count": null,
   "id": "57cd0c1f-759f-45c3-971b-2a14bb202793",
   "metadata": {},
   "outputs": [],
   "source": []
  }
 ],
 "metadata": {
  "kernelspec": {
   "display_name": "Python 3 (ipykernel)",
   "language": "python",
   "name": "python3"
  },
  "language_info": {
   "codemirror_mode": {
    "name": "ipython",
    "version": 3
   },
   "file_extension": ".py",
   "mimetype": "text/x-python",
   "name": "python",
   "nbconvert_exporter": "python",
   "pygments_lexer": "ipython3",
   "version": "3.10.10"
  }
 },
 "nbformat": 4,
 "nbformat_minor": 5
}
