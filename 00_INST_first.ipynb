{
 "cells": [
  {
   "cell_type": "code",
   "execution_count": 1,
   "id": "d6c30aba-c729-4b51-b615-b1c6e09ffead",
   "metadata": {},
   "outputs": [],
   "source": [
    "import tensorflow as tf"
   ]
  },
  {
   "cell_type": "code",
   "execution_count": 2,
   "id": "0ebae429-1a3d-4ff7-8e3b-621316f936e2",
   "metadata": {},
   "outputs": [
    {
     "name": "stdout",
     "output_type": "stream",
     "text": [
      "TF Version:  2.12.0\n"
     ]
    }
   ],
   "source": [
    "print (\"TF Version: \", tf.__version__)"
   ]
  },
  {
   "cell_type": "code",
   "execution_count": 3,
   "id": "424dbd0c-f02b-4d99-a0ab-4b3d61e4d9f4",
   "metadata": {},
   "outputs": [
    {
     "name": "stdout",
     "output_type": "stream",
     "text": [
      "Eager execution:  True\n"
     ]
    }
   ],
   "source": [
    "print (\"Eager execution: \", tf.executing_eagerly())"
   ]
  },
  {
   "cell_type": "code",
   "execution_count": 4,
   "id": "73bf177a-e217-4338-93f5-aeb97a2c77ff",
   "metadata": {},
   "outputs": [
    {
     "name": "stdout",
     "output_type": "stream",
     "text": [
      "result =  tf.Tensor(34, shape=(), dtype=int32)\n"
     ]
    }
   ],
   "source": [
    "x = tf.constant(5, name='x')\n",
    "y = tf.constant(8, name='y')\n",
    "\n",
    "@tf.function\n",
    "def calc_prod(x,y):\n",
    "    z = 2*x + 3*y\n",
    "    return z\n",
    "\n",
    "result = calc_prod(x,y)\n",
    "print('result = ',result)"
   ]
  },
  {
   "cell_type": "markdown",
   "id": "aaa0ee97-bd1b-400d-a296-b0aae0418ade",
   "metadata": {},
   "source": [
    "#### @tf.function\n",
    "This function makes inherit functions 'seems' like regular pyhton functions"
   ]
  },
  {
   "cell_type": "code",
   "execution_count": 8,
   "id": "3eae0cc8-0f28-400d-926d-4fd1418dafd4",
   "metadata": {},
   "outputs": [
    {
     "data": {
      "text/plain": [
       "<tf.Variable 'Variable:0' shape=(2, 3, 4) dtype=float32, numpy=\n",
       "array([[[-0.31742722, -0.2886504 , -0.1920046 , -0.97027326],\n",
       "        [ 0.38138053, -0.5355034 ,  0.59986055, -0.04730377],\n",
       "        [-0.8536201 , -1.7210231 ,  0.9807632 , -1.1549584 ]],\n",
       "\n",
       "       [[-1.403859  ,  0.94624585,  0.89666826, -0.58998954],\n",
       "        [ 0.20633334,  1.4345778 ,  0.61396337,  1.7315279 ],\n",
       "        [-0.57968634,  0.41780406, -0.28004223, -0.09791686]]],\n",
       "      dtype=float32)>"
      ]
     },
     "execution_count": 8,
     "metadata": {},
     "output_type": "execute_result"
    }
   ],
   "source": [
    "### Generate a normalized tensor\n",
    "normal1 = tf.Variable(tf.random.normal([2,3,4]), dtype=tf.float32)\n",
    "normal1"
   ]
  },
  {
   "cell_type": "code",
   "execution_count": 9,
   "id": "b851f6c9-540d-42aa-961b-4396283c0ca6",
   "metadata": {},
   "outputs": [
    {
     "data": {
      "text/plain": [
       "<tf.Tensor: shape=(), dtype=int32, numpy=3>"
      ]
     },
     "execution_count": 9,
     "metadata": {},
     "output_type": "execute_result"
    }
   ],
   "source": [
    "tf.rank(normal1)"
   ]
  },
  {
   "cell_type": "code",
   "execution_count": 10,
   "id": "fff7b265-6d50-40cd-8072-61a24f660cdb",
   "metadata": {},
   "outputs": [
    {
     "data": {
      "text/plain": [
       "<tf.Tensor: shape=(3,), dtype=int32, numpy=array([2, 3, 4])>"
      ]
     },
     "execution_count": 10,
     "metadata": {},
     "output_type": "execute_result"
    }
   ],
   "source": [
    "tf.shape(normal1)"
   ]
  },
  {
   "cell_type": "code",
   "execution_count": 15,
   "id": "58c9e275-a70a-4c0c-a0a2-f5fd8cc8fc08",
   "metadata": {},
   "outputs": [
    {
     "data": {
      "text/plain": [
       "<tf.Tensor: shape=(2, 3, 4), dtype=float32, numpy=\n",
       "array([[[ 2.3012574 ,  0.90126204,  0.63884187, -0.7658996 ],\n",
       "        [ 1.606603  , -0.04825629, -0.2755805 , -0.47719854],\n",
       "        [-1.1287494 ,  0.8443425 , -1.4322637 , -0.6838504 ]],\n",
       "\n",
       "       [[-1.7456107 , -0.4739479 ,  1.4096808 ,  0.6593614 ],\n",
       "        [-0.32434905, -0.11854175,  1.1209466 ,  1.5116463 ],\n",
       "        [ 0.02716785, -0.337013  ,  0.10891726, -0.38723907]]],\n",
       "      dtype=float32)>"
      ]
     },
     "execution_count": 15,
     "metadata": {},
     "output_type": "execute_result"
    }
   ],
   "source": [
    "normal2 = tf.random.normal([2,3,4], dtype=tf.float32)\n",
    "normal2"
   ]
  },
  {
   "cell_type": "code",
   "execution_count": 16,
   "id": "a97db1e9-7305-4d70-92a2-cd587c0a53aa",
   "metadata": {},
   "outputs": [
    {
     "data": {
      "text/plain": [
       "3"
      ]
     },
     "execution_count": 16,
     "metadata": {},
     "output_type": "execute_result"
    }
   ],
   "source": [
    "normal2.ndim"
   ]
  },
  {
   "cell_type": "code",
   "execution_count": 18,
   "id": "47319e2c-7760-418e-a3d1-8655640f4b63",
   "metadata": {},
   "outputs": [
    {
     "data": {
      "text/plain": [
       "<tf.Tensor: shape=(3,), dtype=int32, numpy=array([2, 3, 4])>"
      ]
     },
     "execution_count": 18,
     "metadata": {},
     "output_type": "execute_result"
    }
   ],
   "source": [
    "tf.shape(normal2)"
   ]
  },
  {
   "cell_type": "code",
   "execution_count": null,
   "id": "57cd0c1f-759f-45c3-971b-2a14bb202793",
   "metadata": {},
   "outputs": [],
   "source": []
  }
 ],
 "metadata": {
  "kernelspec": {
   "display_name": "Python 3 (ipykernel)",
   "language": "python",
   "name": "python3"
  },
  "language_info": {
   "codemirror_mode": {
    "name": "ipython",
    "version": 3
   },
   "file_extension": ".py",
   "mimetype": "text/x-python",
   "name": "python",
   "nbconvert_exporter": "python",
   "pygments_lexer": "ipython3",
   "version": "3.10.10"
  }
 },
 "nbformat": 4,
 "nbformat_minor": 5
}
