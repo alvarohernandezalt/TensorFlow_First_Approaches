{
 "cells": [
  {
   "cell_type": "code",
   "execution_count": 1,
   "id": "d6c30aba-c729-4b51-b615-b1c6e09ffead",
   "metadata": {},
   "outputs": [],
   "source": [
    "import tensorflow as tf"
   ]
  },
  {
   "cell_type": "code",
   "execution_count": 2,
   "id": "0ebae429-1a3d-4ff7-8e3b-621316f936e2",
   "metadata": {},
   "outputs": [
    {
     "name": "stdout",
     "output_type": "stream",
     "text": [
      "TF Version:  2.12.0\n"
     ]
    }
   ],
   "source": [
    "print (\"TF Version: \", tf.__version__)"
   ]
  },
  {
   "cell_type": "code",
   "execution_count": 3,
   "id": "424dbd0c-f02b-4d99-a0ab-4b3d61e4d9f4",
   "metadata": {},
   "outputs": [
    {
     "name": "stdout",
     "output_type": "stream",
     "text": [
      "Eager execution:  True\n"
     ]
    }
   ],
   "source": [
    "print (\"Eager execution: \", tf.executing_eagerly())"
   ]
  },
  {
   "cell_type": "code",
   "execution_count": 4,
   "id": "73bf177a-e217-4338-93f5-aeb97a2c77ff",
   "metadata": {},
   "outputs": [
    {
     "name": "stdout",
     "output_type": "stream",
     "text": [
      "result =  tf.Tensor(34, shape=(), dtype=int32)\n"
     ]
    }
   ],
   "source": [
    "x = tf.constant(5, name='x')\n",
    "y = tf.constant(8, name='y')\n",
    "\n",
    "@tf.function\n",
    "def calc_prod(x,y):\n",
    "    z = 2*x + 3*y\n",
    "    return z\n",
    "\n",
    "result = calc_prod(x,y)\n",
    "print('result = ',result)"
   ]
  },
  {
   "cell_type": "markdown",
   "id": "aaa0ee97-bd1b-400d-a296-b0aae0418ade",
   "metadata": {},
   "source": [
    "#### @tf.function\n",
    "This function makes inherit functions 'seems' like regular pyhton functions"
   ]
  },
  {
   "cell_type": "code",
   "execution_count": 5,
   "id": "3eae0cc8-0f28-400d-926d-4fd1418dafd4",
   "metadata": {},
   "outputs": [
    {
     "data": {
      "text/plain": [
       "<tf.Variable 'Variable:0' shape=(2, 3, 4) dtype=float32, numpy=\n",
       "array([[[-0.00246354, -0.19502442,  0.7879207 ,  2.1441026 ],\n",
       "        [-0.39013222, -0.12530161, -0.55748326, -0.53423554],\n",
       "        [ 0.4365988 , -0.67371494, -0.19191936, -0.7846794 ]],\n",
       "\n",
       "       [[ 1.3869767 ,  1.1920148 , -0.8503473 ,  0.9046559 ],\n",
       "        [ 0.53607774,  1.5569589 , -1.0865768 ,  1.8166689 ],\n",
       "        [ 0.8565215 ,  0.6111339 , -1.0073297 ,  1.1437734 ]]],\n",
       "      dtype=float32)>"
      ]
     },
     "execution_count": 5,
     "metadata": {},
     "output_type": "execute_result"
    }
   ],
   "source": [
    "### Generate a normalized tensor\n",
    "normal1 = tf.Variable(tf.random.normal([2,3,4]), dtype=tf.float32)\n",
    "normal1"
   ]
  },
  {
   "cell_type": "code",
   "execution_count": 6,
   "id": "b851f6c9-540d-42aa-961b-4396283c0ca6",
   "metadata": {},
   "outputs": [
    {
     "data": {
      "text/plain": [
       "<tf.Tensor: shape=(), dtype=int32, numpy=3>"
      ]
     },
     "execution_count": 6,
     "metadata": {},
     "output_type": "execute_result"
    }
   ],
   "source": [
    "tf.rank(normal1)"
   ]
  },
  {
   "cell_type": "code",
   "execution_count": 7,
   "id": "fff7b265-6d50-40cd-8072-61a24f660cdb",
   "metadata": {},
   "outputs": [
    {
     "data": {
      "text/plain": [
       "<tf.Tensor: shape=(3,), dtype=int32, numpy=array([2, 3, 4])>"
      ]
     },
     "execution_count": 7,
     "metadata": {},
     "output_type": "execute_result"
    }
   ],
   "source": [
    "tf.shape(normal1)"
   ]
  },
  {
   "cell_type": "code",
   "execution_count": 8,
   "id": "58c9e275-a70a-4c0c-a0a2-f5fd8cc8fc08",
   "metadata": {},
   "outputs": [
    {
     "data": {
      "text/plain": [
       "<tf.Tensor: shape=(2, 3, 4), dtype=float32, numpy=\n",
       "array([[[-0.7262466 ,  1.143045  , -0.0604397 ,  1.6947546 ],\n",
       "        [ 0.5179211 ,  1.5084895 , -0.20093483, -0.1912706 ],\n",
       "        [ 0.50448155, -0.11771435, -0.52633214, -1.8295678 ]],\n",
       "\n",
       "       [[ 2.139276  , -0.43917784, -1.3938938 ,  0.21544221],\n",
       "        [-0.7357928 ,  0.97663164, -1.5967041 , -1.6007953 ],\n",
       "        [-0.83573896,  0.82877314, -0.95790327, -1.3456662 ]]],\n",
       "      dtype=float32)>"
      ]
     },
     "execution_count": 8,
     "metadata": {},
     "output_type": "execute_result"
    }
   ],
   "source": [
    "normal2 = tf.random.normal([2,3,4], dtype=tf.float32)\n",
    "normal2"
   ]
  },
  {
   "cell_type": "code",
   "execution_count": 9,
   "id": "a97db1e9-7305-4d70-92a2-cd587c0a53aa",
   "metadata": {},
   "outputs": [
    {
     "data": {
      "text/plain": [
       "3"
      ]
     },
     "execution_count": 9,
     "metadata": {},
     "output_type": "execute_result"
    }
   ],
   "source": [
    "normal2.ndim"
   ]
  },
  {
   "cell_type": "code",
   "execution_count": 10,
   "id": "47319e2c-7760-418e-a3d1-8655640f4b63",
   "metadata": {},
   "outputs": [
    {
     "data": {
      "text/plain": [
       "<tf.Tensor: shape=(3,), dtype=int32, numpy=array([2, 3, 4])>"
      ]
     },
     "execution_count": 10,
     "metadata": {},
     "output_type": "execute_result"
    }
   ],
   "source": [
    "tf.shape(normal2)"
   ]
  },
  {
   "cell_type": "code",
   "execution_count": 13,
   "id": "57cd0c1f-759f-45c3-971b-2a14bb202793",
   "metadata": {},
   "outputs": [
    {
     "name": "stdout",
     "output_type": "stream",
     "text": [
      "tf.Tensor(6, shape=(), dtype=int32)\n"
     ]
    }
   ],
   "source": [
    "a = tf.add(4,2)\n",
    "\n",
    "@tf.function\n",
    "def compute_values():\n",
    "    print(a) # 6\n",
    "\n",
    "compute_values()"
   ]
  },
  {
   "cell_type": "code",
   "execution_count": 14,
   "id": "0ed06cf0-2c48-4f23-a8b8-112c550c1419",
   "metadata": {},
   "outputs": [
    {
     "name": "stdout",
     "output_type": "stream",
     "text": [
      "Tensor(\"Add:0\", shape=(), dtype=int32)\n"
     ]
    }
   ],
   "source": [
    "# if we put the operation tf.add inside @tf.function we don´t get the result, but we get types and attributes\n",
    "\n",
    "@tf.function\n",
    "def compute_values():\n",
    "    a = tf.add(4,2)\n",
    "    print(a) # 6\n",
    "\n",
    "compute_values()"
   ]
  },
  {
   "cell_type": "code",
   "execution_count": 18,
   "id": "28d38bd3-1fb5-467d-bd6f-e3c32b025cbf",
   "metadata": {},
   "outputs": [
    {
     "name": "stdout",
     "output_type": "stream",
     "text": [
      "Result:  tf.Tensor(6, shape=(), dtype=int32)\n"
     ]
    }
   ],
   "source": [
    "#Another way to get the result when the operation is inside the @tf.function\n",
    "@tf.function\n",
    "def compute_values():\n",
    "    a = tf.add(4,2)\n",
    "    return a\n",
    "\n",
    "result = compute_values()\n",
    "print(\"Result: \",result)"
   ]
  },
  {
   "cell_type": "code",
   "execution_count": 19,
   "id": "fcfda159-b752-4aee-a3a2-ef22119ae2aa",
   "metadata": {},
   "outputs": [
    {
     "name": "stdout",
     "output_type": "stream",
     "text": [
      "Result:  tf.Tensor(6, shape=(), dtype=int32)\n"
     ]
    }
   ],
   "source": [
    "# A third solution is to cast the numerc values to Tensors\n",
    "@tf.function\n",
    "def compute_values():\n",
    "    a = tf.add(tf.constant(4),tf.constant(2))\n",
    "    return a\n",
    "\n",
    "result = compute_values()\n",
    "print(\"Result: \",result)"
   ]
  },
  {
   "cell_type": "code",
   "execution_count": null,
   "id": "4461c41e-b92f-469d-b663-8c06b29bd6ba",
   "metadata": {},
   "outputs": [],
   "source": []
  }
 ],
 "metadata": {
  "kernelspec": {
   "display_name": "Python 3 (ipykernel)",
   "language": "python",
   "name": "python3"
  },
  "language_info": {
   "codemirror_mode": {
    "name": "ipython",
    "version": 3
   },
   "file_extension": ".py",
   "mimetype": "text/x-python",
   "name": "python",
   "nbconvert_exporter": "python",
   "pygments_lexer": "ipython3",
   "version": "3.10.10"
  }
 },
 "nbformat": 4,
 "nbformat_minor": 5
}
