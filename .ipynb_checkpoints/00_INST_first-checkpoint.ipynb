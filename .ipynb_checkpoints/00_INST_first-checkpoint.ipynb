{
 "cells": [
  {
   "cell_type": "code",
   "execution_count": 2,
   "id": "d6c30aba-c729-4b51-b615-b1c6e09ffead",
   "metadata": {},
   "outputs": [],
   "source": [
    "import tensorflow as tf"
   ]
  },
  {
   "cell_type": "code",
   "execution_count": 4,
   "id": "0ebae429-1a3d-4ff7-8e3b-621316f936e2",
   "metadata": {},
   "outputs": [
    {
     "name": "stdout",
     "output_type": "stream",
     "text": [
      "TF Version:  2.12.0\n"
     ]
    }
   ],
   "source": [
    "print (\"TF Version: \", tf.__version__)"
   ]
  },
  {
   "cell_type": "code",
   "execution_count": 6,
   "id": "424dbd0c-f02b-4d99-a0ab-4b3d61e4d9f4",
   "metadata": {},
   "outputs": [
    {
     "name": "stdout",
     "output_type": "stream",
     "text": [
      "Eager execution:  True\n"
     ]
    }
   ],
   "source": [
    "print (\"Eager execution: \", tf.executing_eagerly())"
   ]
  },
  {
   "cell_type": "code",
   "execution_count": 7,
   "id": "73bf177a-e217-4338-93f5-aeb97a2c77ff",
   "metadata": {},
   "outputs": [
    {
     "name": "stdout",
     "output_type": "stream",
     "text": [
      "result =  tf.Tensor(34, shape=(), dtype=int32)\n"
     ]
    }
   ],
   "source": [
    "x = tf.constant(5, name='x')\n",
    "y = tf.constant(8, name='y')\n",
    "\n",
    "@tf.function\n",
    "def calc_prod(x,y):\n",
    "    z = 2*x + 3*y\n",
    "    return z\n",
    "\n",
    "result = calc_prod(x,y)\n",
    "print('result = ',result)"
   ]
  },
  {
   "cell_type": "markdown",
   "id": "aaa0ee97-bd1b-400d-a296-b0aae0418ade",
   "metadata": {},
   "source": [
    "#### @tf.function\n",
    "This function makes inherit functions 'seems' like regular pyhton functions"
   ]
  },
  {
   "cell_type": "code",
   "execution_count": null,
   "id": "3eae0cc8-0f28-400d-926d-4fd1418dafd4",
   "metadata": {},
   "outputs": [],
   "source": []
  }
 ],
 "metadata": {
  "kernelspec": {
   "display_name": "Python 3 (ipykernel)",
   "language": "python",
   "name": "python3"
  },
  "language_info": {
   "codemirror_mode": {
    "name": "ipython",
    "version": 3
   },
   "file_extension": ".py",
   "mimetype": "text/x-python",
   "name": "python",
   "nbconvert_exporter": "python",
   "pygments_lexer": "ipython3",
   "version": "3.10.10"
  }
 },
 "nbformat": 4,
 "nbformat_minor": 5
}
